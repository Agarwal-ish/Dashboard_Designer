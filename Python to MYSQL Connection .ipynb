{
 "cells": [
  {
   "cell_type": "code",
   "execution_count": 1,
   "metadata": {},
   "outputs": [
    {
     "name": "stdout",
     "output_type": "stream",
     "text": [
      "Requirement already satisfied: sqlalchemy in c:\\users\\avant\\appdata\\local\\programs\\python\\python313\\lib\\site-packages (2.0.39)\n",
      "Requirement already satisfied: pymysql in c:\\users\\avant\\appdata\\local\\programs\\python\\python313\\lib\\site-packages (1.1.1)\n",
      "Requirement already satisfied: greenlet!=0.4.17 in c:\\users\\avant\\appdata\\local\\programs\\python\\python313\\lib\\site-packages (from sqlalchemy) (3.1.1)\n",
      "Requirement already satisfied: typing-extensions>=4.6.0 in c:\\users\\avant\\appdata\\local\\programs\\python\\python313\\lib\\site-packages (from sqlalchemy) (4.12.2)\n",
      "Note: you may need to restart the kernel to use updated packages.\n"
     ]
    },
    {
     "name": "stderr",
     "output_type": "stream",
     "text": [
      "\n",
      "[notice] A new release of pip is available: 24.3.1 -> 25.0.1\n",
      "[notice] To update, run: python.exe -m pip install --upgrade pip\n"
     ]
    }
   ],
   "source": [
    "pip install sqlalchemy pymysql"
   ]
  },
  {
   "cell_type": "code",
   "execution_count": 4,
   "metadata": {},
   "outputs": [
    {
     "name": "stdout",
     "output_type": "stream",
     "text": [
      "✅ Connected to the database successfully.\n",
      "📂 CSV file loaded successfully.\n",
      "📝 Column Names: ['song_id', 'song_title', 'artist', 'album', 'genre', 'release_date', 'duration', 'popularity', 'stream', 'language', 'explicit_content', 'label', 'composer', 'producer', 'year', 'popularity_category', 'duration_category']\n",
      "🚀 Data uploaded successfully!\n"
     ]
    }
   ],
   "source": [
    "from sqlalchemy import create_engine\n",
    "import pandas as pd\n",
    "import pymysql  # Ensure pymysql is installed\n",
    "\n",
    "# Replace with your MySQL credentials\n",
    "username = 'root'\n",
    "password = 'Ishita_1234'\n",
    "host = 'localhost'\n",
    "port = '3306'  # Define port separately\n",
    "database = 'spotifydb'\n",
    "\n",
    "# Create the connection URL\n",
    "connection_url = f'mysql+pymysql://{username}:{password}@{host}:{port}/{database}'\n",
    "\n",
    "try:\n",
    "    # Create an SQLAlchemy engine\n",
    "    engine = create_engine(connection_url)\n",
    "    print(\"✅ Connected to the database successfully.\")\n",
    "\n",
    "    # Provide the correct path to your CSV file\n",
    "    file_path = r\"C:\\Users\\avant\\OneDrive\\Desktop\\cleaned_spotify_songs.csv\"  # Using raw string\n",
    "    \n",
    "    # Load the CSV file correctly\n",
    "    accounts_df = pd.read_csv(file_path, encoding=\"utf-8\")  # Ensure UTF-8 encoding\n",
    "    print(\"📂 CSV file loaded successfully.\")\n",
    "\n",
    "    # Check column names (to debug potential issues)\n",
    "    print(\"📝 Column Names:\", accounts_df.columns.tolist())\n",
    "\n",
    "    # Upload DataFrame to MySQL\n",
    "    accounts_df.to_sql('spotify_songs', con=engine, if_exists='replace', index=False)\n",
    "    print(\"🚀 Data uploaded successfully!\")\n",
    "\n",
    "except Exception as e:\n",
    "    print(\"❌ An error occurred:\", e)"
   ]
  },
  {
   "cell_type": "code",
   "execution_count": 6,
   "metadata": {},
   "outputs": [],
   "source": [
    "song_details = accounts_df[['song_id', 'song_title', 'artist', 'album', 'release_date']]"
   ]
  },
  {
   "cell_type": "code",
   "execution_count": 7,
   "metadata": {},
   "outputs": [
    {
     "data": {
      "text/plain": [
       "50000"
      ]
     },
     "execution_count": 7,
     "metadata": {},
     "output_type": "execute_result"
    }
   ],
   "source": [
    "song_details.to_sql(\"song_details\", engine, if_exists=\"replace\", index=False)"
   ]
  },
  {
   "cell_type": "code",
   "execution_count": 10,
   "metadata": {},
   "outputs": [
    {
     "data": {
      "text/plain": [
       "50000"
      ]
     },
     "execution_count": 10,
     "metadata": {},
     "output_type": "execute_result"
    }
   ],
   "source": [
    "artist_info.to_sql(\"artist_info\", engine, if_exists=\"replace\", index=False)\n",
    "track_metrics.to_sql(\"track_metrics\", engine, if_exists=\"replace\", index=False)"
   ]
  },
  {
   "cell_type": "code",
   "execution_count": 9,
   "metadata": {},
   "outputs": [],
   "source": [
    "artist_info = accounts_df[['artist', 'genre']]\n",
    "track_metrics = accounts_df[['song_id', 'duration', 'popularity', 'language', 'label', 'composer']]"
   ]
  }
 ],
 "metadata": {
  "kernelspec": {
   "display_name": "Python 3",
   "language": "python",
   "name": "python3"
  },
  "language_info": {
   "codemirror_mode": {
    "name": "ipython",
    "version": 3
   },
   "file_extension": ".py",
   "mimetype": "text/x-python",
   "name": "python",
   "nbconvert_exporter": "python",
   "pygments_lexer": "ipython3",
   "version": "3.13.0"
  }
 },
 "nbformat": 4,
 "nbformat_minor": 2
}
