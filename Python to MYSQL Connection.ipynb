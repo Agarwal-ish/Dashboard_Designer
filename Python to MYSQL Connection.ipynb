{
 "cells": [
  {
   "cell_type": "code",
   "execution_count": null,
   "metadata": {},
   "outputs": [],
   "source": [
    "pip install sqlalchemy pymysql"
   ]
  },
  {
   "cell_type": "code",
   "execution_count": null,
   "metadata": {},
   "outputs": [],
   "source": [
    "from sqlalchemy import create_engine\n",
    "import pandas as pd\n",
    "import pymysql  # Ensure pymysql is installed\n",
    "\n",
    "# Replace with your MySQL credentials\n",
    "username = 'root'\n",
    "password = 'Ishita_1234'\n",
    "host = 'localhost'\n",
    "port = '3306'  # Define port separately\n",
    "database = 'spotifydb'\n",
    "\n",
    "# Create the connection URL\n",
    "connection_url = f'mysql+pymysql://{username}:{password}@{host}:{port}/{database}'\n",
    "\n",
    "try:\n",
    "    # Create an SQLAlchemy engine\n",
    "    engine = create_engine(connection_url)\n",
    "    print(\"✅ Connected to the database successfully.\")\n",
    "\n",
    "    # Provide the correct path to your CSV file\n",
    "    file_path = r\"C:\\Users\\avant\\OneDrive\\Desktop\\cleaned_spotify_songs.csv\"  # Using raw string\n",
    "    \n",
    "    # Load the CSV file correctly\n",
    "    accounts_df = pd.read_csv(file_path, encoding=\"utf-8\")  # Ensure UTF-8 encoding\n",
    "    print(\"📂 CSV file loaded successfully.\")\n",
    "\n",
    "    # Check column names (to debug potential issues)\n",
    "    print(\"📝 Column Names:\", accounts_df.columns.tolist())\n",
    "\n",
    "    # Upload DataFrame to MySQL\n",
    "    accounts_df.to_sql('spotify_songs', con=engine, if_exists='replace', index=False)\n",
    "    print(\"🚀 Data uploaded successfully!\")\n",
    "\n",
    "except Exception as e:\n",
    "    print(\"❌ An error occurred:\", e)"
   ]
  },
  {
   "cell_type": "code",
   "execution_count": null,
   "metadata": {},
   "outputs": [],
   "source": [
    "song_details = accounts_df[['song_id', 'song_title', 'artist', 'album', 'release_date']]"
   ]
  },
  {
   "cell_type": "code",
   "execution_count": null,
   "metadata": {},
   "outputs": [],
   "source": [
    "song_details.to_sql(\"song_details\", engine, if_exists=\"replace\", index=False)"
   ]
  },
  {
   "cell_type": "code",
   "execution_count": null,
   "metadata": {},
   "outputs": [],
   "source": [
    "artist_info.to_sql(\"artist_info\", engine, if_exists=\"replace\", index=False)\n",
    "track_metrics.to_sql(\"track_metrics\", engine, if_exists=\"replace\", index=False)"
   ]
  },
  {
   "cell_type": "code",
   "execution_count": null,
   "metadata": {},
   "outputs": [],
   "source": [
    "artist_info = accounts_df[['artist', 'genre']]\n",
    "track_metrics = accounts_df[['song_id', 'duration', 'popularity', 'language', 'label', 'composer']]"
   ]
  }
 ],
 "metadata": {
  "kernelspec": {
   "display_name": "Python 3",
   "language": "python",
   "name": "python3"
  },
  "language_info": {
   "codemirror_mode": {
    "name": "ipython",
    "version": 3
   },
   "file_extension": ".py",
   "mimetype": "text/x-python",
   "name": "python",
   "nbconvert_exporter": "python",
   "pygments_lexer": "ipython3",
   "version": "3.13.0"
  }
 },
 "nbformat": 4,
 "nbformat_minor": 2
}
